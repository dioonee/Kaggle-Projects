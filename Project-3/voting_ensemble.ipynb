{
 "cells": [
  {
   "cell_type": "code",
   "execution_count": 1,
   "metadata": {
    "_cell_guid": "b1076dfc-b9ad-4769-8c92-a6c4dae69d19",
    "_uuid": "8f2839f25d086af736a60e9eeb907d3b93b6e0e5",
    "execution": {
     "iopub.execute_input": "2021-05-11T03:23:25.120418Z",
     "iopub.status.busy": "2021-05-11T03:23:25.119261Z",
     "iopub.status.idle": "2021-05-11T03:23:25.131577Z",
     "shell.execute_reply": "2021-05-11T03:23:25.132082Z"
    },
    "papermill": {
     "duration": 0.048745,
     "end_time": "2021-05-11T03:23:25.132372",
     "exception": false,
     "start_time": "2021-05-11T03:23:25.083627",
     "status": "completed"
    },
    "tags": []
   },
   "outputs": [
    {
     "name": "stdout",
     "output_type": "stream",
     "text": [
      "['sample_submission.csv', 'test', 'train']\n"
     ]
    }
   ],
   "source": [
    "# This Python 3 environment comes with many helpful analytics libraries installed\n",
    "# It is defined by the kaggle/python Docker image: https://github.com/kaggle/docker-python\n",
    "# For example, here's several helpful packages to load\n",
    "\n",
    "import numpy as np # linear algebra\n",
    "import pandas as pd # data processing, CSV file I/O (e.g. pd.read_csv)\n",
    "\n",
    "# Input data files are available in the read-only \"../input/\" directory\n",
    "# For example, running this (by clicking run or pressing Shift+Enter) will list all files under the input directory\n",
    "\n",
    "import os\n",
    "import torch\n",
    "print(os.listdir('./snu-2021-1-ds-project-3'))\n",
    "\n",
    "# You can write up to 20GB to the current directory (/kaggle/working/) that gets preserved as output when you create a version using \"Save & Run All\" \n",
    "# You can also write temporary files to /kaggle/temp/, but they won't be saved outside of the current session"
   ]
  },
  {
   "cell_type": "code",
   "execution_count": 2,
   "metadata": {},
   "outputs": [],
   "source": [
    "ROW = 7389\n",
    "COL = 12"
   ]
  },
  {
   "cell_type": "markdown",
   "metadata": {},
   "source": [
    "#### 앙상블을 위한 파일들을 홀수개로 받아옵니다. 가중치를 주기 위해서 같은 파일을 여러 변수에 받아오면 됩니다. "
   ]
  },
  {
   "cell_type": "markdown",
   "metadata": {},
   "source": [
    "### <center>----------이 사이를 수정하세요----------</center>"
   ]
  },
  {
   "cell_type": "code",
   "execution_count": 101,
   "metadata": {},
   "outputs": [],
   "source": [
    "# 앙상블 할 DataFrame의 개수(중복 포함)\n",
    "## 과반 투표를 위해 홀수가 되어야 합니다.\n",
    "SIZE = 5 "
   ]
  },
  {
   "cell_type": "code",
   "execution_count": 102,
   "metadata": {},
   "outputs": [],
   "source": [
    "test1 = './Chosen_12_all_train_epoch_300.csv' \n",
    "test2 = './handmade.csv'\n",
    "test3 = './Chosen_12_all_train_epoch_200.csv'\n",
    "test4 = './Chosen_12_all_train_epoch_350.csv'\n",
    "test5 = './Chosen_12_all_train_epoch_500.csv'\n",
    "#test6 = './my_submission (5).csv'\n",
    "#test7 = './my_submission (1).csv'\n",
    "#test8 = './Feedback_CNN_0.25_all_train_epoch500_0.21039.csv'\n",
    "#test9 = './voted_ensemble5_new.csv'\n",
    "#test10 = './voted_ensemble9_new.csv'\n",
    "#test11=  './voted_ensemble9.csv'\n",
    "## 필요시 더 추가하세요\n",
    "\n",
    "df_test1 = pd.read_csv(test1)\n",
    "df_test2 = pd.read_csv(test2)\n",
    "df_test3 = pd.read_csv(test3)\n",
    "df_test4 = pd.read_csv(test4)\n",
    "df_test5 = pd.read_csv(test5)\n",
    "#df_test6 = pd.read_csv(test6)\n",
    "#df_test7 = pd.read_csv(test7)\n",
    "#df_test8 = pd.read_csv(test8)\n",
    "#df_test9 = pd.read_csv(test9)\n",
    "#df_test10 = pd.read_csv(test10)\n",
    "#df_test11 = pd.read_csv(test11)\n",
    "## 필요시 더 추가하세요\n",
    "\n",
    "# 더 정의하고 만들어도 됩니다.(단, 총 변수의 개수가 홀수개여야 합니다)"
   ]
  },
  {
   "cell_type": "code",
   "execution_count": 103,
   "metadata": {},
   "outputs": [],
   "source": [
    "# 위에 정의한 df_test* 변수들을 모두 아래의 리스트에 넣어주세요 \n",
    "df_list = [df_test1, df_test2, df_test3, df_test4, df_test5]\n",
    "#, df_test6, df_test7, df_test8, df_test9, df_test10, df_test11"
   ]
  },
  {
   "cell_type": "markdown",
   "metadata": {},
   "source": [
    "### <center>----------이 사이를 수정하세요----------</center>"
   ]
  },
  {
   "cell_type": "code",
   "execution_count": 104,
   "metadata": {
    "scrolled": true
   },
   "outputs": [],
   "source": [
    "#df_test1"
   ]
  },
  {
   "cell_type": "code",
   "execution_count": 105,
   "metadata": {},
   "outputs": [],
   "source": [
    "#df_test5"
   ]
  },
  {
   "cell_type": "code",
   "execution_count": 106,
   "metadata": {},
   "outputs": [],
   "source": [
    "matrix_list = []\n",
    "\n",
    "for df in df_list:\n",
    "    \n",
    "    df_matrix = pd.DataFrame(0, index=range(ROW), columns=range(COL))\n",
    "\n",
    "    for i in range(len(df)):\n",
    "        line = df.iloc[i, 1]\n",
    "        if not isinstance(line, float):\n",
    "            labels = line.split()\n",
    "            for label in labels:\n",
    "                label = int(label)\n",
    "                df_matrix.iloc[i, int(label)] = 1\n",
    "                \n",
    "    matrix_list.append(df_matrix)"
   ]
  },
  {
   "cell_type": "code",
   "execution_count": 107,
   "metadata": {
    "scrolled": true
   },
   "outputs": [],
   "source": [
    "#matrix_list[4]"
   ]
  },
  {
   "cell_type": "code",
   "execution_count": 108,
   "metadata": {},
   "outputs": [],
   "source": [
    "voting_matrix = pd.DataFrame(0, index=range(ROW), columns=range(COL))"
   ]
  },
  {
   "cell_type": "code",
   "execution_count": 109,
   "metadata": {},
   "outputs": [],
   "source": [
    "for df_matrix in matrix_list:\n",
    "    for i in range(ROW):\n",
    "        for j in range(COL):\n",
    "            if df_matrix.iloc[i, j] == 1:\n",
    "                voting_matrix.iloc[i, j] += 1"
   ]
  },
  {
   "cell_type": "code",
   "execution_count": 110,
   "metadata": {},
   "outputs": [],
   "source": [
    "#voting_matrix"
   ]
  },
  {
   "cell_type": "markdown",
   "metadata": {},
   "source": [
    "#### Voting Matrix를 다시 submission.csv 파일로 변환"
   ]
  },
  {
   "cell_type": "code",
   "execution_count": 111,
   "metadata": {},
   "outputs": [],
   "source": [
    "for i in range(ROW):\n",
    "    for j in range(COL):\n",
    "        if voting_matrix.iloc[i, j] > SIZE // 2:\n",
    "            voting_matrix.iloc[i, j] = 1\n",
    "        else:\n",
    "            voting_matrix.iloc[i, j] = 0"
   ]
  },
  {
   "cell_type": "code",
   "execution_count": 112,
   "metadata": {},
   "outputs": [],
   "source": [
    "#voting_matrix"
   ]
  },
  {
   "cell_type": "code",
   "execution_count": 113,
   "metadata": {},
   "outputs": [],
   "source": [
    "submission_df = pd.DataFrame(columns=['labels'], index=range(ROW))\n",
    "submission_df.index.name = 'id'"
   ]
  },
  {
   "cell_type": "code",
   "execution_count": 114,
   "metadata": {},
   "outputs": [],
   "source": [
    "for i in range(ROW):\n",
    "    indices_of_1s = []\n",
    "    for j in range(COL):\n",
    "        if voting_matrix.iloc[i, j] == 1:\n",
    "            indices_of_1s.append(j)\n",
    "    str_indices_of_1s = ' '.join(map(str, indices_of_1s))\n",
    "    submission_df.iloc[i] = [str_indices_of_1s]"
   ]
  },
  {
   "cell_type": "code",
   "execution_count": 115,
   "metadata": {},
   "outputs": [
    {
     "data": {
      "text/html": [
       "<div>\n",
       "<style scoped>\n",
       "    .dataframe tbody tr th:only-of-type {\n",
       "        vertical-align: middle;\n",
       "    }\n",
       "\n",
       "    .dataframe tbody tr th {\n",
       "        vertical-align: top;\n",
       "    }\n",
       "\n",
       "    .dataframe thead th {\n",
       "        text-align: right;\n",
       "    }\n",
       "</style>\n",
       "<table border=\"1\" class=\"dataframe\">\n",
       "  <thead>\n",
       "    <tr style=\"text-align: right;\">\n",
       "      <th></th>\n",
       "      <th>labels</th>\n",
       "    </tr>\n",
       "    <tr>\n",
       "      <th>id</th>\n",
       "      <th></th>\n",
       "    </tr>\n",
       "  </thead>\n",
       "  <tbody>\n",
       "    <tr>\n",
       "      <th>0</th>\n",
       "      <td>5 9 10 11</td>\n",
       "    </tr>\n",
       "    <tr>\n",
       "      <th>1</th>\n",
       "      <td>3 8</td>\n",
       "    </tr>\n",
       "    <tr>\n",
       "      <th>2</th>\n",
       "      <td>5 7 10 11</td>\n",
       "    </tr>\n",
       "    <tr>\n",
       "      <th>3</th>\n",
       "      <td>2 3 10</td>\n",
       "    </tr>\n",
       "    <tr>\n",
       "      <th>4</th>\n",
       "      <td>8</td>\n",
       "    </tr>\n",
       "    <tr>\n",
       "      <th>...</th>\n",
       "      <td>...</td>\n",
       "    </tr>\n",
       "    <tr>\n",
       "      <th>7384</th>\n",
       "      <td>8</td>\n",
       "    </tr>\n",
       "    <tr>\n",
       "      <th>7385</th>\n",
       "      <td>8 10</td>\n",
       "    </tr>\n",
       "    <tr>\n",
       "      <th>7386</th>\n",
       "      <td>8</td>\n",
       "    </tr>\n",
       "    <tr>\n",
       "      <th>7387</th>\n",
       "      <td>1 10</td>\n",
       "    </tr>\n",
       "    <tr>\n",
       "      <th>7388</th>\n",
       "      <td>9</td>\n",
       "    </tr>\n",
       "  </tbody>\n",
       "</table>\n",
       "<p>7389 rows × 1 columns</p>\n",
       "</div>"
      ],
      "text/plain": [
       "         labels\n",
       "id             \n",
       "0     5 9 10 11\n",
       "1           3 8\n",
       "2     5 7 10 11\n",
       "3        2 3 10\n",
       "4             8\n",
       "...         ...\n",
       "7384          8\n",
       "7385       8 10\n",
       "7386          8\n",
       "7387       1 10\n",
       "7388          9\n",
       "\n",
       "[7389 rows x 1 columns]"
      ]
     },
     "execution_count": 115,
     "metadata": {},
     "output_type": "execute_result"
    }
   ],
   "source": [
    "submission_df"
   ]
  },
  {
   "cell_type": "markdown",
   "metadata": {
    "papermill": {
     "duration": 0.043238,
     "end_time": "2021-05-11T03:27:36.388399",
     "exception": false,
     "start_time": "2021-05-11T03:27:36.345161",
     "status": "completed"
    },
    "tags": []
   },
   "source": [
    "최종 파일을 csv로 제출합니다."
   ]
  },
  {
   "cell_type": "code",
   "execution_count": 116,
   "metadata": {
    "execution": {
     "iopub.execute_input": "2021-05-11T03:27:36.481290Z",
     "iopub.status.busy": "2021-05-11T03:27:36.480265Z",
     "iopub.status.idle": "2021-05-11T03:27:36.505039Z",
     "shell.execute_reply": "2021-05-11T03:27:36.504361Z"
    },
    "papermill": {
     "duration": 0.07323,
     "end_time": "2021-05-11T03:27:36.505187",
     "exception": false,
     "start_time": "2021-05-11T03:27:36.431957",
     "status": "completed"
    },
    "tags": []
   },
   "outputs": [],
   "source": [
    "submission_df.to_csv('voted_ensemble5_handmade_2.csv')"
   ]
  },
  {
   "cell_type": "code",
   "execution_count": null,
   "metadata": {},
   "outputs": [],
   "source": []
  }
 ],
 "metadata": {
  "kernelspec": {
   "display_name": "Python 3",
   "language": "python",
   "name": "python3"
  },
  "language_info": {
   "codemirror_mode": {
    "name": "ipython",
    "version": 3
   },
   "file_extension": ".py",
   "mimetype": "text/x-python",
   "name": "python",
   "nbconvert_exporter": "python",
   "pygments_lexer": "ipython3",
   "version": "3.8.5"
  },
  "papermill": {
   "default_parameters": {},
   "duration": 260.917219,
   "end_time": "2021-05-11T03:27:38.298643",
   "environment_variables": {},
   "exception": null,
   "input_path": "__notebook__.ipynb",
   "output_path": "__notebook__.ipynb",
   "parameters": {},
   "start_time": "2021-05-11T03:23:17.381424",
   "version": "2.3.3"
  }
 },
 "nbformat": 4,
 "nbformat_minor": 5
}
